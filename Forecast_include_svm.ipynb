{
  "nbformat": 4,
  "nbformat_minor": 0,
  "metadata": {
    "colab": {
      "name": "Forecast.ipynb",
      "version": "0.3.2",
      "views": {},
      "default_view": {},
      "provenance": [],
      "collapsed_sections": []
    },
    "kernelspec": {
      "display_name": "Python 2",
      "language": "python",
      "name": "python2"
    },
    "accelerator": "GPU"
  },
  "cells": [
    {
      "metadata": {
        "id": "ScRr0OeIonFg",
        "colab_type": "code",
        "colab": {
          "autoexec": {
            "startup": false,
            "wait_interval": 0
          },
          "output_extras": [
            {
              "item_id": 2
            }
          ],
          "base_uri": "https://localhost:8080/",
          "height": 34
        },
        "outputId": "b1ff0b0e-1198-49bb-ce97-d5ea9d82ede7",
        "executionInfo": {
          "status": "ok",
          "timestamp": 1518771318827,
          "user_tz": -330,
          "elapsed": 54455,
          "user": {
            "displayName": "Sai Sumanth",
            "photoUrl": "//lh3.googleusercontent.com/-wT9Vk55Hfm8/AAAAAAAAAAI/AAAAAAAAAAA/bOPAYMMFYpc/s50-c-k-no/photo.jpg",
            "userId": "102569320044331549685"
          }
        }
      },
      "cell_type": "code",
      "source": [
        "!wget -q https://archive.ics.uci.edu/ml/machine-learning-databases/00235/household_power_consumption.zip\n",
        "!unzip -q household_power_consumption.zip"
      ],
      "execution_count": 2,
      "outputs": [
        {
          "output_type": "stream",
          "text": [
            "replace household_power_consumption.txt? [y]es, [n]o, [A]ll, [N]one, [r]ename: ^C\n"
          ],
          "name": "stdout"
        }
      ]
    },
    {
      "metadata": {
        "id": "cfps2vBIosa6",
        "colab_type": "code",
        "colab": {
          "autoexec": {
            "startup": false,
            "wait_interval": 0
          }
        }
      },
      "cell_type": "code",
      "source": [
        "!pip install -q keras\n",
        "!pip install -q tqdm"
      ],
      "execution_count": 0,
      "outputs": []
    },
    {
      "metadata": {
        "id": "V0t7drEsobtb",
        "colab_type": "code",
        "colab": {
          "autoexec": {
            "startup": false,
            "wait_interval": 0
          },
          "output_extras": [
            {
              "item_id": 1
            }
          ],
          "base_uri": "https://localhost:8080/",
          "height": 34
        },
        "outputId": "5ddcf9d1-f4a4-48fa-8414-f420a74affcf",
        "executionInfo": {
          "status": "ok",
          "timestamp": 1518771325373,
          "user_tz": -330,
          "elapsed": 1896,
          "user": {
            "displayName": "Sai Sumanth",
            "photoUrl": "//lh3.googleusercontent.com/-wT9Vk55Hfm8/AAAAAAAAAAI/AAAAAAAAAAA/bOPAYMMFYpc/s50-c-k-no/photo.jpg",
            "userId": "102569320044331549685"
          }
        }
      },
      "cell_type": "code",
      "source": [
        "import numpy as np\n",
        "import pandas as pd\n",
        "import matplotlib.pyplot as plt\n",
        "import tensorflow as tf\n",
        "import keras\n",
        "%matplotlib inline\n",
        "import math\n",
        "from keras.models import Sequential\n",
        "from keras.layers import *\n",
        "from sklearn.preprocessing import MinMaxScaler\n",
        "from sklearn.metrics import mean_squared_error\n",
        "from tqdm import tqdm\n",
        "from keras.callbacks import EarlyStopping\n",
        "from sklearn import svm\n",
        "from sklearn.svm import SVR\n",
        "from sklearn.ensemble import RandomForestRegressor"
      ],
      "execution_count": 4,
      "outputs": [
        {
          "output_type": "stream",
          "text": [
            "Using TensorFlow backend.\n"
          ],
          "name": "stderr"
        }
      ]
    },
    {
      "metadata": {
        "id": "TO5MN7acobtt",
        "colab_type": "code",
        "colab": {
          "autoexec": {
            "startup": false,
            "wait_interval": 0
          },
          "output_extras": [
            {
              "item_id": 1
            }
          ],
          "base_uri": "https://localhost:8080/",
          "height": 71
        },
        "outputId": "14eb900e-e0e6-4851-cf4b-fc7960d5793a",
        "executionInfo": {
          "status": "ok",
          "timestamp": 1518771331455,
          "user_tz": -330,
          "elapsed": 4099,
          "user": {
            "displayName": "Sai Sumanth",
            "photoUrl": "//lh3.googleusercontent.com/-wT9Vk55Hfm8/AAAAAAAAAAI/AAAAAAAAAAA/bOPAYMMFYpc/s50-c-k-no/photo.jpg",
            "userId": "102569320044331549685"
          }
        }
      },
      "cell_type": "code",
      "source": [
        "df = pd.read_csv(\"household_power_consumption.txt\", sep = \";\")"
      ],
      "execution_count": 5,
      "outputs": [
        {
          "output_type": "stream",
          "text": [
            "/usr/local/lib/python2.7/dist-packages/IPython/core/interactiveshell.py:2718: DtypeWarning: Columns (2,3,4,5,6,7) have mixed types. Specify dtype option on import or set low_memory=False.\n",
            "  interactivity=interactivity, compiler=compiler, result=result)\n"
          ],
          "name": "stderr"
        }
      ]
    },
    {
      "metadata": {
        "id": "7fDgWfgTobt7",
        "colab_type": "code",
        "colab": {
          "autoexec": {
            "startup": false,
            "wait_interval": 0
          }
        }
      },
      "cell_type": "code",
      "source": [
        "df = df[(df.Global_active_power!=\"?\")]"
      ],
      "execution_count": 0,
      "outputs": []
    },
    {
      "metadata": {
        "id": "C0Udoc28obuI",
        "colab_type": "code",
        "colab": {
          "autoexec": {
            "startup": false,
            "wait_interval": 0
          }
        }
      },
      "cell_type": "code",
      "source": [
        "df[\"Timestamp\"] = df[\"Date\"].astype(str)+\" \"+df[\"Time\"]"
      ],
      "execution_count": 0,
      "outputs": []
    },
    {
      "metadata": {
        "id": "jNjPY__hobuP",
        "colab_type": "code",
        "colab": {
          "autoexec": {
            "startup": false,
            "wait_interval": 0
          }
        }
      },
      "cell_type": "code",
      "source": [
        "df.Timestamp = pd.to_datetime(df.Timestamp, format = \"%d/%m/%Y %H:%M:%S\")"
      ],
      "execution_count": 0,
      "outputs": []
    },
    {
      "metadata": {
        "id": "L_PGzkWIobug",
        "colab_type": "code",
        "colab": {
          "autoexec": {
            "startup": false,
            "wait_interval": 0
          }
        }
      },
      "cell_type": "code",
      "source": [
        "df.Date = pd.to_datetime(df.Date, format = \"%d/%m/%Y\")"
      ],
      "execution_count": 0,
      "outputs": []
    },
    {
      "metadata": {
        "id": "x1wEEKXaobup",
        "colab_type": "code",
        "colab": {
          "autoexec": {
            "startup": false,
            "wait_interval": 0
          }
        }
      },
      "cell_type": "code",
      "source": [
        "df.Global_active_power = df.Global_active_power.astype(float)\n",
        "df.Global_reactive_power = df.Global_reactive_power.astype(float)\n",
        "df.Voltage = df.Voltage.astype(float)\n",
        "df.Sub_metering_1 = df.Sub_metering_1.astype(float)\n",
        "df.Sub_metering_2 = df.Sub_metering_2.astype(float)\n",
        "df.Sub_metering_3 = df.Sub_metering_3.astype(float)"
      ],
      "execution_count": 0,
      "outputs": []
    },
    {
      "metadata": {
        "id": "03NLG1Etobu0",
        "colab_type": "code",
        "colab": {
          "autoexec": {
            "startup": false,
            "wait_interval": 0
          }
        }
      },
      "cell_type": "code",
      "source": [
        "day1 = df[(df.Date == \"2007-02-01\")]"
      ],
      "execution_count": 0,
      "outputs": []
    },
    {
      "metadata": {
        "id": "WeZRsxwPobu4",
        "colab_type": "code",
        "colab": {
          "autoexec": {
            "startup": false,
            "wait_interval": 0
          },
          "output_extras": [
            {
              "item_id": 1
            },
            {
              "item_id": 2
            }
          ],
          "base_uri": "https://localhost:8080/",
          "height": 346
        },
        "outputId": "b9b5ab59-f448-4c6b-9ef6-f47f48b7203f",
        "executionInfo": {
          "status": "ok",
          "timestamp": 1518771361745,
          "user_tz": -330,
          "elapsed": 2113,
          "user": {
            "displayName": "Sai Sumanth",
            "photoUrl": "//lh3.googleusercontent.com/-wT9Vk55Hfm8/AAAAAAAAAAI/AAAAAAAAAAA/bOPAYMMFYpc/s50-c-k-no/photo.jpg",
            "userId": "102569320044331549685"
          }
        }
      },
      "cell_type": "code",
      "source": [
        "# plt.figure(figsize=(8,8))\n",
        "plt.plot(day1['Timestamp'], day1['Global_active_power'])\n",
        "plt.xticks(rotation='vertical')"
      ],
      "execution_count": 12,
      "outputs": [
        {
          "output_type": "execute_result",
          "data": {
            "text/plain": [
              "(array([732707.95833333, 732708.08333333, 732708.20833333, 732708.33333333,\n",
              "        732708.45833333, 732708.58333333, 732708.70833333, 732708.83333333,\n",
              "        732708.95833333]), <a list of 9 Text xticklabel objects>)"
            ]
          },
          "metadata": {
            "tags": []
          },
          "execution_count": 12
        },
        {
          "output_type": "display_data",
          "data": {
            "image/png": "[encoded data removed]",
            "text/plain": [
              "<matplotlib.figure.Figure at 0x7f4a21849f50>"
            ]
          },
          "metadata": {
            "tags": []
          }
        }
      ]
    },
    {
      "metadata": {
        "id": "3qixgG1GobvE",
        "colab_type": "code",
        "colab": {
          "autoexec": {
            "startup": false,
            "wait_interval": 0
          },
          "output_extras": [
            {
              "item_id": 1
            },
            {
              "item_id": 2
            }
          ],
          "base_uri": "https://localhost:8080/",
          "height": 346
        },
        "outputId": "9da54c45-19f0-4473-8d3d-f4a87c0f91e5",
        "executionInfo": {
          "status": "ok",
          "timestamp": 1518771368224,
          "user_tz": -330,
          "elapsed": 4497,
          "user": {
            "displayName": "Sai Sumanth",
            "photoUrl": "//lh3.googleusercontent.com/-wT9Vk55Hfm8/AAAAAAAAAAI/AAAAAAAAAAA/bOPAYMMFYpc/s50-c-k-no/photo.jpg",
            "userId": "102569320044331549685"
          }
        }
      },
      "cell_type": "code",
      "source": [
        "day2 = df[(df.Date == \"2007-02-02\")]\n",
        "# plt.figure(figsize=(4))\n",
        "plt.plot(day2['Timestamp'], day2['Global_active_power'])\n",
        "plt.xticks(rotation='vertical')"
      ],
      "execution_count": 13,
      "outputs": [
        {
          "output_type": "execute_result",
          "data": {
            "text/plain": [
              "(array([732708.95833333, 732709.08333333, 732709.20833333, 732709.33333333,\n",
              "        732709.45833333, 732709.58333333, 732709.70833333, 732709.83333333,\n",
              "        732709.95833333]), <a list of 9 Text xticklabel objects>)"
            ]
          },
          "metadata": {
            "tags": []
          },
          "execution_count": 13
        },
        {
          "output_type": "display_data",
          "data": {
            "image/png": "[encoded data removed]",
            "text/plain": [
              "<matplotlib.figure.Figure at 0x7f49e08a1950>"
            ]
          },
          "metadata": {
            "tags": []
          }
        }
      ]
    },
    {
      "metadata": {
        "id": "JnyLHBkrobvU",
        "colab_type": "code",
        "colab": {
          "autoexec": {
            "startup": false,
            "wait_interval": 0
          },
          "output_extras": [
            {
              "item_id": 1
            },
            {
              "item_id": 2
            }
          ],
          "base_uri": "https://localhost:8080/",
          "height": 346
        },
        "outputId": "5b15672c-878d-4216-ce86-6401e46e6dd9",
        "executionInfo": {
          "status": "ok",
          "timestamp": 1518771371445,
          "user_tz": -330,
          "elapsed": 1701,
          "user": {
            "displayName": "Sai Sumanth",
            "photoUrl": "//lh3.googleusercontent.com/-wT9Vk55Hfm8/AAAAAAAAAAI/AAAAAAAAAAA/bOPAYMMFYpc/s50-c-k-no/photo.jpg",
            "userId": "102569320044331549685"
          }
        }
      },
      "cell_type": "code",
      "source": [
        "day3 = df[(df.Date == \"2008-02-03\")]\n",
        "# plt.figure(figsize=(4))\n",
        "plt.plot(day3['Timestamp'], day3['Global_active_power'])\n",
        "plt.xticks(rotation='vertical')"
      ],
      "execution_count": 14,
      "outputs": [
        {
          "output_type": "execute_result",
          "data": {
            "text/plain": [
              "(array([733074.95833333, 733075.08333333, 733075.20833333, 733075.33333333,\n",
              "        733075.45833333, 733075.58333333, 733075.70833333, 733075.83333333,\n",
              "        733075.95833333]), <a list of 9 Text xticklabel objects>)"
            ]
          },
          "metadata": {
            "tags": []
          },
          "execution_count": 14
        },
        {
          "output_type": "display_data",
          "data": {
            "image/png": "[encoded data removed]",
            "text/plain": [
              "<matplotlib.figure.Figure at 0x7f49e0583a90>"
            ]
          },
          "metadata": {
            "tags": []
          }
        }
      ]
    },
    {
      "metadata": {
        "id": "TAdDPK1Wobvd",
        "colab_type": "code",
        "colab": {
          "autoexec": {
            "startup": false,
            "wait_interval": 0
          },
          "output_extras": [
            {
              "item_id": 1
            },
            {
              "item_id": 2
            }
          ],
          "base_uri": "https://localhost:8080/",
          "height": 326
        },
        "outputId": "fde9b01f-d8ca-46d6-f984-9b83a0ea091b",
        "executionInfo": {
          "status": "ok",
          "timestamp": 1518771389453,
          "user_tz": -330,
          "elapsed": 17203,
          "user": {
            "displayName": "Sai Sumanth",
            "photoUrl": "//lh3.googleusercontent.com/-wT9Vk55Hfm8/AAAAAAAAAAI/AAAAAAAAAAA/bOPAYMMFYpc/s50-c-k-no/photo.jpg",
            "userId": "102569320044331549685"
          }
        }
      },
      "cell_type": "code",
      "source": [
        "# day2 = df[(df.Date == \"2007-02-02\")]\n",
        "# plt.figure(figsize=(4))\n",
        "plt.plot(df['Timestamp'], df['Global_active_power'])\n",
        "plt.xticks(rotation='vertical')"
      ],
      "execution_count": 15,
      "outputs": [
        {
          "output_type": "execute_result",
          "data": {
            "text/plain": [
              "(array([732646., 732828., 733011., 733194., 733377., 733559., 733742.,\n",
              "        733924., 734107.]), <a list of 9 Text xticklabel objects>)"
            ]
          },
          "metadata": {
            "tags": []
          },
          "execution_count": 15
        },
        {
          "output_type": "display_data",
          "data": {
            "image/png": "[encoded data removed]",
            "text/plain": [
              "<matplotlib.figure.Figure at 0x7f49dfd6ef90>"
            ]
          },
          "metadata": {
            "tags": []
          }
        }
      ]
    },
    {
      "metadata": {
        "id": "yjPSF7zfobvf",
        "colab_type": "code",
        "colab": {
          "autoexec": {
            "startup": false,
            "wait_interval": 0
          }
        }
      },
      "cell_type": "code",
      "source": [
        "dataset = df.Global_active_power\n",
        "dataset = np.asarray(dataset)"
      ],
      "execution_count": 0,
      "outputs": []
    },
    {
      "metadata": {
        "id": "_3HMvvb-obvh",
        "colab_type": "code",
        "colab": {
          "autoexec": {
            "startup": false,
            "wait_interval": 0
          },
          "output_extras": [
            {
              "item_id": 1
            }
          ],
          "base_uri": "https://localhost:8080/",
          "height": 34
        },
        "outputId": "294f684f-d85f-4e89-aee0-ce2466135f6e",
        "executionInfo": {
          "status": "ok",
          "timestamp": 1518771400799,
          "user_tz": -330,
          "elapsed": 4557,
          "user": {
            "displayName": "Sai Sumanth",
            "photoUrl": "//lh3.googleusercontent.com/-wT9Vk55Hfm8/AAAAAAAAAAI/AAAAAAAAAAA/bOPAYMMFYpc/s50-c-k-no/photo.jpg",
            "userId": "102569320044331549685"
          }
        }
      },
      "cell_type": "code",
      "source": [
        "dataset.shape"
      ],
      "execution_count": 17,
      "outputs": [
        {
          "output_type": "execute_result",
          "data": {
            "text/plain": [
              "(2049280,)"
            ]
          },
          "metadata": {
            "tags": []
          },
          "execution_count": 17
        }
      ]
    },
    {
      "metadata": {
        "id": "QaVc8y7bobvm",
        "colab_type": "code",
        "colab": {
          "autoexec": {
            "startup": false,
            "wait_interval": 0
          }
        }
      },
      "cell_type": "code",
      "source": [
        "# scaler = MinMaxScaler(feature_range=(0, 1))\n",
        "# dataset = scaler.fit_transform(dataset)\n",
        "# train_size = int(len(dataset) * 0.98)\n",
        "# test_size = int((len(dataset) - train_size) * 0.5)\n",
        "# valid_size = len(dataset) - train_size - test_size\n",
        "# train, test = dataset[0:train_size], dataset[train_size:]\n",
        "# train_x, train_y = create_dataset(train,window_size)\n",
        "\n",
        "seq_len = 50\n",
        "# batch_size = 32\n",
        "sequence_length = seq_len + 1\n",
        "result = []\n",
        "for index in range(len(dataset) - sequence_length):\n",
        "    result.append(dataset[index: index + sequence_length])\n",
        "\n",
        "result = np.array(result)\n",
        "\n",
        "train_size = int(len(dataset) * 0.98)\n",
        "test_size = int((len(dataset) - train_size) * 0.5)\n",
        "valid_size = len(dataset) - train_size - test_size\n",
        "train = result[:int(train_size), :]\n",
        "x_train = train[:, :-1]\n",
        "y_train = train[:, -1]\n",
        "\n",
        "x_valid = result[int(train_size):int(train_size) + valid_size, :-1]\n",
        "y_valid = result[int(train_size):int(train_size) + valid_size, -1]\n",
        "\n",
        "x_test = result[int(train_size) + valid_size:, :-1]\n",
        "y_test = result[int(train_size) + valid_size:, -1]\n",
        "\n",
        "x_train = np.reshape(x_train, (x_train.shape[0], x_train.shape[1], 1))\n",
        "x_valid = np.reshape(x_valid, (x_valid.shape[0], x_valid.shape[1], 1))\n",
        "x_test = np.reshape(x_test, (x_test.shape[0], x_test.shape[1], 1))  "
      ],
      "execution_count": 0,
      "outputs": []
    },
    {
      "metadata": {
        "id": "3xq2Hnofobvq",
        "colab_type": "code",
        "colab": {
          "autoexec": {
            "startup": false,
            "wait_interval": 0
          },
          "output_extras": [
            {
              "item_id": 1
            }
          ],
          "base_uri": "https://localhost:8080/",
          "height": 34
        },
        "outputId": "7ea117f1-8e3e-4bd3-ef3d-08df82ee1109",
        "executionInfo": {
          "status": "ok",
          "timestamp": 1518771408975,
          "user_tz": -330,
          "elapsed": 2985,
          "user": {
            "displayName": "Sai Sumanth",
            "photoUrl": "//lh3.googleusercontent.com/-wT9Vk55Hfm8/AAAAAAAAAAI/AAAAAAAAAAA/bOPAYMMFYpc/s50-c-k-no/photo.jpg",
            "userId": "102569320044331549685"
          }
        }
      },
      "cell_type": "code",
      "source": [
        "x_train.shape"
      ],
      "execution_count": 19,
      "outputs": [
        {
          "output_type": "execute_result",
          "data": {
            "text/plain": [
              "(2008294, 50, 1)"
            ]
          },
          "metadata": {
            "tags": []
          },
          "execution_count": 19
        }
      ]
    },
    {
      "metadata": {
        "id": "E0TMbZYfobvu",
        "colab_type": "code",
        "colab": {
          "autoexec": {
            "startup": false,
            "wait_interval": 0
          },
          "output_extras": [
            {
              "item_id": 1
            }
          ],
          "base_uri": "https://localhost:8080/",
          "height": 34
        },
        "outputId": "6402cc75-d1c9-4e04-f50c-2264f419ea1f",
        "executionInfo": {
          "status": "ok",
          "timestamp": 1518771415253,
          "user_tz": -330,
          "elapsed": 4925,
          "user": {
            "displayName": "Sai Sumanth",
            "photoUrl": "//lh3.googleusercontent.com/-wT9Vk55Hfm8/AAAAAAAAAAI/AAAAAAAAAAA/bOPAYMMFYpc/s50-c-k-no/photo.jpg",
            "userId": "102569320044331549685"
          }
        }
      },
      "cell_type": "code",
      "source": [
        "x_valid.shape"
      ],
      "execution_count": 20,
      "outputs": [
        {
          "output_type": "execute_result",
          "data": {
            "text/plain": [
              "(20493, 50, 1)"
            ]
          },
          "metadata": {
            "tags": []
          },
          "execution_count": 20
        }
      ]
    },
    {
      "metadata": {
        "id": "L1Ij-mzzobv1",
        "colab_type": "code",
        "colab": {
          "autoexec": {
            "startup": false,
            "wait_interval": 0
          },
          "output_extras": [
            {
              "item_id": 1
            }
          ],
          "base_uri": "https://localhost:8080/",
          "height": 34
        },
        "outputId": "88697cd1-2747-42f0-c2f7-0ff192982b68",
        "executionInfo": {
          "status": "ok",
          "timestamp": 1518771417845,
          "user_tz": -330,
          "elapsed": 2080,
          "user": {
            "displayName": "Sai Sumanth",
            "photoUrl": "//lh3.googleusercontent.com/-wT9Vk55Hfm8/AAAAAAAAAAI/AAAAAAAAAAA/bOPAYMMFYpc/s50-c-k-no/photo.jpg",
            "userId": "102569320044331549685"
          }
        }
      },
      "cell_type": "code",
      "source": [
        "x_test.shape"
      ],
      "execution_count": 21,
      "outputs": [
        {
          "output_type": "execute_result",
          "data": {
            "text/plain": [
              "(20442, 50, 1)"
            ]
          },
          "metadata": {
            "tags": []
          },
          "execution_count": 21
        }
      ]
    },
    {
      "metadata": {
        "id": "mAme9_1zobv4",
        "colab_type": "code",
        "colab": {
          "autoexec": {
            "startup": false,
            "wait_interval": 0
          }
        }
      },
      "cell_type": "code",
      "source": [
        "class DataGenerator(object):\n",
        "    def __init__(self, batch_size = 32, shuffle = True):\n",
        "        self.batch_size = batch_size\n",
        "        self.shuffle = shuffle\n",
        "\n",
        "    def generate(self, x, y):\n",
        "        while 1:\n",
        "        \n",
        "            imax = int(len(x)/self.batch_size)\n",
        "            for i in range(imax):\n",
        "                inp = x[i*batch_size:(i+1)*batch_size]\n",
        "                out = y[i*batch_size:(i+1)*batch_size]\n",
        "                yield inp, out"
      ],
      "execution_count": 0,
      "outputs": []
    },
    {
      "metadata": {
        "id": "b9VHMKIRobv-",
        "colab_type": "code",
        "colab": {
          "autoexec": {
            "startup": false,
            "wait_interval": 0
          }
        }
      },
      "cell_type": "code",
      "source": [
        "batch_size = 10000\n",
        "params = {'batch_size': 10000,\n",
        "          'shuffle': True}\n",
        "\n",
        "training_generator = DataGenerator(**params).generate(x_train, y_train)\n",
        "validation_generator = DataGenerator(**params).generate(x_valid, y_valid)\n"
      ],
      "execution_count": 0,
      "outputs": []
    },
    {
      "metadata": {
        "id": "r6B4RFy-KZKg",
        "colab_type": "text"
      },
      "cell_type": "markdown",
      "source": [
        "# LSTM"
      ]
    },
    {
      "metadata": {
        "id": "YqWgkFOBobwE",
        "colab_type": "code",
        "colab": {
          "autoexec": {
            "startup": false,
            "wait_interval": 0
          }
        }
      },
      "cell_type": "code",
      "source": [
        "model = Sequential()\n",
        "model.add(LSTM(50, input_shape=(seq_len, 1), return_sequences=True))\n",
        "model.add(Dropout(0.2))\n",
        "model.add(LSTM(100,return_sequences=False))\n",
        "model.add(Dropout(0.2))\n",
        "model.add(Dense(1))\n",
        "model.compile(loss='mse', optimizer='rmsprop')"
      ],
      "execution_count": 0,
      "outputs": []
    },
    {
      "metadata": {
        "id": "rVWQGvfE7M_Z",
        "colab_type": "code",
        "colab": {
          "autoexec": {
            "startup": false,
            "wait_interval": 0
          }
        }
      },
      "cell_type": "code",
      "source": [
        "earlyStopping = EarlyStopping(monitor='val_loss', patience = 5)"
      ],
      "execution_count": 0,
      "outputs": []
    },
    {
      "metadata": {
        "id": "LU1GJ8rrobwF",
        "colab_type": "code",
        "colab": {
          "autoexec": {
            "startup": false,
            "wait_interval": 0
          },
          "output_extras": [
            {
              "item_id": 567
            },
            {
              "item_id": 1023
            },
            {
              "item_id": 1597
            },
            {
              "item_id": 2135
            },
            {
              "item_id": 2141
            },
            {
              "item_id": 2142
            }
          ],
          "base_uri": "https://localhost:8080/",
          "height": 431
        },
        "outputId": "b50124ce-04c5-479b-8eb7-8bd73c95496b",
        "executionInfo": {
          "status": "ok",
          "timestamp": 1518742064375,
          "user_tz": -330,
          "elapsed": 2442938,
          "user": {
            "displayName": "Sai Sumanth",
            "photoUrl": "//lh3.googleusercontent.com/-wT9Vk55Hfm8/AAAAAAAAAAI/AAAAAAAAAAA/bOPAYMMFYpc/s50-c-k-no/photo.jpg",
            "userId": "102569320044331549685"
          }
        }
      },
      "cell_type": "code",
      "source": [
        "model.fit_generator(generator = training_generator,\n",
        "                    steps_per_epoch = len(x_train)//batch_size,\n",
        "                    validation_data = validation_generator,\n",
        "                    validation_steps = len(x_valid)//batch_size, epochs = 20, callbacks = [earlyStopping], shuffle = True)"
      ],
      "execution_count": 26,
      "outputs": [
        {
          "output_type": "stream",
          "text": [
            "Epoch 1/20\n",
            "200/200 [==============================] - 224s 1s/step - loss: 0.2328 - val_loss: 0.0993\n",
            "Epoch 2/20\n",
            "200/200 [==============================] - 221s 1s/step - loss: 0.1034 - val_loss: 0.0752\n",
            "Epoch 3/20\n",
            "172/200 [========================>.....] - ETA: 30s - loss: 0.0964"
          ],
          "name": "stdout"
        },
        {
          "output_type": "stream",
          "text": [
            "200/200 [==============================] - 221s 1s/step - loss: 0.0913 - val_loss: 0.0690\n",
            "Epoch 4/20\n",
            "200/200 [==============================] - 222s 1s/step - loss: 0.0864 - val_loss: 0.0741\n",
            "Epoch 5/20\n",
            "200/200 [==============================] - 222s 1s/step - loss: 0.0839 - val_loss: 0.0684\n",
            "Epoch 6/20\n",
            " 27/200 [===>..........................] - ETA: 3:11 - loss: 0.1231"
          ],
          "name": "stdout"
        },
        {
          "output_type": "stream",
          "text": [
            "200/200 [==============================] - 222s 1s/step - loss: 0.0821 - val_loss: 0.0633\n",
            "Epoch 7/20\n",
            "200/200 [==============================] - 222s 1s/step - loss: 0.0809 - val_loss: 0.0737\n",
            "Epoch 8/20\n",
            "200/200 [==============================] - 222s 1s/step - loss: 0.0793 - val_loss: 0.0678\n",
            "Epoch 9/20\n",
            "  1/200 [..............................] - ETA: 3:38 - loss: 0.2782"
          ],
          "name": "stdout"
        },
        {
          "output_type": "stream",
          "text": [
            "200/200 [==============================] - 222s 1s/step - loss: 0.0784 - val_loss: 0.0653\n",
            "Epoch 10/20\n",
            "200/200 [==============================] - 221s 1s/step - loss: 0.0776 - val_loss: 0.0666\n",
            "Epoch 11/20\n",
            "194/200 [============================>.] - ETA: 6s - loss: 0.0769"
          ],
          "name": "stdout"
        },
        {
          "output_type": "stream",
          "text": [
            "200/200 [==============================] - 222s 1s/step - loss: 0.0766 - val_loss: 0.0643\n"
          ],
          "name": "stdout"
        },
        {
          "output_type": "execute_result",
          "data": {
            "text/plain": [
              "<keras.callbacks.History at 0x7fd7e53a8790>"
            ]
          },
          "metadata": {
            "tags": []
          },
          "execution_count": 26
        }
      ]
    },
    {
      "metadata": {
        "id": "TWKoPNG1obwH",
        "colab_type": "code",
        "colab": {
          "autoexec": {
            "startup": false,
            "wait_interval": 0
          }
        }
      },
      "cell_type": "code",
      "source": [
        "model.save('model_1.h5')"
      ],
      "execution_count": 0,
      "outputs": []
    },
    {
      "metadata": {
        "id": "kg3DMrUUq5Q-",
        "colab_type": "code",
        "colab": {
          "autoexec": {
            "startup": false,
            "wait_interval": 0
          },
          "output_extras": [
            {
              "item_id": 1
            }
          ],
          "base_uri": "https://localhost:8080/",
          "height": 53
        },
        "outputId": "29cf517c-fb81-425b-dd88-5fd7117df962",
        "executionInfo": {
          "status": "ok",
          "timestamp": 1518742078961,
          "user_tz": -330,
          "elapsed": 1110,
          "user": {
            "displayName": "Sai Sumanth",
            "photoUrl": "//lh3.googleusercontent.com/-wT9Vk55Hfm8/AAAAAAAAAAI/AAAAAAAAAAA/bOPAYMMFYpc/s50-c-k-no/photo.jpg",
            "userId": "102569320044331549685"
          }
        }
      },
      "cell_type": "code",
      "source": [
        "ls"
      ],
      "execution_count": 28,
      "outputs": [
        {
          "output_type": "stream",
          "text": [
            "\u001b[0m\u001b[01;34mdatalab\u001b[0m/                         household_power_consumption.zip\r\n",
            "household_power_consumption.txt  model_1.h5\r\n"
          ],
          "name": "stdout"
        }
      ]
    },
    {
      "metadata": {
        "id": "W4UvRqUqq90_",
        "colab_type": "code",
        "colab": {
          "autoexec": {
            "startup": false,
            "wait_interval": 0
          }
        }
      },
      "cell_type": "code",
      "source": [
        "from google.colab import files\n",
        "\n",
        "files.download('model_1.h5')"
      ],
      "execution_count": 0,
      "outputs": []
    },
    {
      "metadata": {
        "id": "2tUycrh2rN8D",
        "colab_type": "code",
        "colab": {
          "autoexec": {
            "startup": false,
            "wait_interval": 0
          }
        }
      },
      "cell_type": "code",
      "source": [
        "y_pred = model.predict(x_test)"
      ],
      "execution_count": 0,
      "outputs": []
    },
    {
      "metadata": {
        "id": "-IQfL-NMsn9a",
        "colab_type": "code",
        "colab": {
          "autoexec": {
            "startup": false,
            "wait_interval": 0
          },
          "output_extras": [
            {
              "item_id": 1
            }
          ],
          "base_uri": "https://localhost:8080/",
          "height": 35
        },
        "outputId": "0b1bff51-ae30-40d6-d7d2-d38fffe1ff45",
        "executionInfo": {
          "status": "ok",
          "timestamp": 1518742113038,
          "user_tz": -330,
          "elapsed": 759,
          "user": {
            "displayName": "Sai Sumanth",
            "photoUrl": "//lh3.googleusercontent.com/-wT9Vk55Hfm8/AAAAAAAAAAI/AAAAAAAAAAA/bOPAYMMFYpc/s50-c-k-no/photo.jpg",
            "userId": "102569320044331549685"
          }
        }
      },
      "cell_type": "code",
      "source": [
        "y_pred.shape"
      ],
      "execution_count": 31,
      "outputs": [
        {
          "output_type": "execute_result",
          "data": {
            "text/plain": [
              "(20442, 1)"
            ]
          },
          "metadata": {
            "tags": []
          },
          "execution_count": 31
        }
      ]
    },
    {
      "metadata": {
        "id": "m-tcc1z8sfH-",
        "colab_type": "code",
        "colab": {
          "autoexec": {
            "startup": false,
            "wait_interval": 0
          },
          "output_extras": [
            {
              "item_id": 1
            }
          ],
          "base_uri": "https://localhost:8080/",
          "height": 35
        },
        "outputId": "d38dd5cf-02d1-483c-d69b-6d407d7e53a1",
        "executionInfo": {
          "status": "ok",
          "timestamp": 1518742114263,
          "user_tz": -330,
          "elapsed": 755,
          "user": {
            "displayName": "Sai Sumanth",
            "photoUrl": "//lh3.googleusercontent.com/-wT9Vk55Hfm8/AAAAAAAAAAI/AAAAAAAAAAA/bOPAYMMFYpc/s50-c-k-no/photo.jpg",
            "userId": "102569320044331549685"
          }
        }
      },
      "cell_type": "code",
      "source": [
        "y_test.shape"
      ],
      "execution_count": 32,
      "outputs": [
        {
          "output_type": "execute_result",
          "data": {
            "text/plain": [
              "(20442,)"
            ]
          },
          "metadata": {
            "tags": []
          },
          "execution_count": 32
        }
      ]
    },
    {
      "metadata": {
        "id": "crhYJ9srsqk8",
        "colab_type": "code",
        "colab": {
          "autoexec": {
            "startup": false,
            "wait_interval": 0
          },
          "output_extras": [
            {
              "item_id": 1
            }
          ],
          "base_uri": "https://localhost:8080/",
          "height": 35
        },
        "outputId": "be98ee55-aa18-4ad4-af21-98e6c03dfbbd",
        "executionInfo": {
          "status": "ok",
          "timestamp": 1518742116248,
          "user_tz": -330,
          "elapsed": 761,
          "user": {
            "displayName": "Sai Sumanth",
            "photoUrl": "//lh3.googleusercontent.com/-wT9Vk55Hfm8/AAAAAAAAAAI/AAAAAAAAAAA/bOPAYMMFYpc/s50-c-k-no/photo.jpg",
            "userId": "102569320044331549685"
          }
        }
      },
      "cell_type": "code",
      "source": [
        "mean_squared_error(y_test, y_pred)"
      ],
      "execution_count": 33,
      "outputs": [
        {
          "output_type": "execute_result",
          "data": {
            "text/plain": [
              "0.060738327118884036"
            ]
          },
          "metadata": {
            "tags": []
          },
          "execution_count": 33
        }
      ]
    },
    {
      "metadata": {
        "id": "6h8eQZ01s3SO",
        "colab_type": "code",
        "colab": {
          "autoexec": {
            "startup": false,
            "wait_interval": 0
          },
          "output_extras": [
            {
              "item_id": 1
            }
          ],
          "base_uri": "https://localhost:8080/",
          "height": 143
        },
        "outputId": "f7413cb5-af0e-4146-c689-2597267dbf63",
        "executionInfo": {
          "status": "ok",
          "timestamp": 1518742129066,
          "user_tz": -330,
          "elapsed": 941,
          "user": {
            "displayName": "Sai Sumanth",
            "photoUrl": "//lh3.googleusercontent.com/-wT9Vk55Hfm8/AAAAAAAAAAI/AAAAAAAAAAA/bOPAYMMFYpc/s50-c-k-no/photo.jpg",
            "userId": "102569320044331549685"
          }
        }
      },
      "cell_type": "code",
      "source": [
        "y_pred"
      ],
      "execution_count": 34,
      "outputs": [
        {
          "output_type": "execute_result",
          "data": {
            "text/plain": [
              "array([[1.1838888],\n",
              "       [0.9967358],\n",
              "       [1.0262258],\n",
              "       ...,\n",
              "       [0.8953949],\n",
              "       [0.890748 ],\n",
              "       [0.8822197]], dtype=float32)"
            ]
          },
          "metadata": {
            "tags": []
          },
          "execution_count": 34
        }
      ]
    },
    {
      "metadata": {
        "id": "N4ffqLOxs-uL",
        "colab_type": "code",
        "colab": {
          "autoexec": {
            "startup": false,
            "wait_interval": 0
          },
          "output_extras": [
            {
              "item_id": 1
            }
          ],
          "base_uri": "https://localhost:8080/",
          "height": 35
        },
        "outputId": "3903267a-035d-4973-81ae-f7ad7c7e826e",
        "executionInfo": {
          "status": "ok",
          "timestamp": 1518742135235,
          "user_tz": -330,
          "elapsed": 892,
          "user": {
            "displayName": "Sai Sumanth",
            "photoUrl": "//lh3.googleusercontent.com/-wT9Vk55Hfm8/AAAAAAAAAAI/AAAAAAAAAAA/bOPAYMMFYpc/s50-c-k-no/photo.jpg",
            "userId": "102569320044331549685"
          }
        }
      },
      "cell_type": "code",
      "source": [
        "y_test"
      ],
      "execution_count": 35,
      "outputs": [
        {
          "output_type": "execute_result",
          "data": {
            "text/plain": [
              "array([1.096, 1.08 , 1.074, ..., 0.944, 0.938, 0.934])"
            ]
          },
          "metadata": {
            "tags": []
          },
          "execution_count": 35
        }
      ]
    },
    {
      "metadata": {
        "id": "OI6qy-yqHhKv",
        "colab_type": "code",
        "colab": {
          "autoexec": {
            "startup": false,
            "wait_interval": 0
          }
        }
      },
      "cell_type": "code",
      "source": [
        ""
      ],
      "execution_count": 0,
      "outputs": []
    },
    {
      "metadata": {
        "id": "6ntkZvOYHkJT",
        "colab_type": "text"
      },
      "cell_type": "markdown",
      "source": [
        "## RANDOM FOREST"
      ]
    },
    {
      "metadata": {
        "id": "5UtgfB15HrjS",
        "colab_type": "code",
        "colab": {
          "autoexec": {
            "startup": false,
            "wait_interval": 0
          }
        }
      },
      "cell_type": "code",
      "source": [
        "x_train = np.reshape(x_train, (x_train.shape[0], x_train.shape[1]))\n",
        "x_valid = np.reshape(x_valid, (x_valid.shape[0], x_valid.shape[1]))\n",
        "x_test = np.reshape(x_test, (x_test.shape[0], x_test.shape[1])) "
      ],
      "execution_count": 0,
      "outputs": []
    },
    {
      "metadata": {
        "id": "ZLR6TunsPLqN",
        "colab_type": "code",
        "colab": {
          "autoexec": {
            "startup": false,
            "wait_interval": 0
          }
        }
      },
      "cell_type": "code",
      "source": [
        "regr = RandomForestRegressor(max_depth=6,random_state=0)"
      ],
      "execution_count": 0,
      "outputs": []
    },
    {
      "metadata": {
        "id": "S4mUupSxGh-T",
        "colab_type": "code",
        "colab": {
          "autoexec": {
            "startup": false,
            "wait_interval": 0
          },
          "output_extras": [
            {
              "item_id": 1
            }
          ],
          "base_uri": "https://localhost:8080/",
          "height": 125
        },
        "outputId": "109a98cd-8090-4a2d-90a8-0f11f406a7ce",
        "executionInfo": {
          "status": "ok",
          "timestamp": 1518743027659,
          "user_tz": -330,
          "elapsed": 288678,
          "user": {
            "displayName": "Sai Sumanth",
            "photoUrl": "//lh3.googleusercontent.com/-wT9Vk55Hfm8/AAAAAAAAAAI/AAAAAAAAAAA/bOPAYMMFYpc/s50-c-k-no/photo.jpg",
            "userId": "102569320044331549685"
          }
        }
      },
      "cell_type": "code",
      "source": [
        "regr.fit(x_train,y_train)"
      ],
      "execution_count": 41,
      "outputs": [
        {
          "output_type": "execute_result",
          "data": {
            "text/plain": [
              "RandomForestRegressor(bootstrap=True, criterion='mse', max_depth=6,\n",
              "           max_features='auto', max_leaf_nodes=None,\n",
              "           min_impurity_decrease=0.0, min_impurity_split=None,\n",
              "           min_samples_leaf=1, min_samples_split=2,\n",
              "           min_weight_fraction_leaf=0.0, n_estimators=10, n_jobs=1,\n",
              "           oob_score=False, random_state=0, verbose=0, warm_start=False)"
            ]
          },
          "metadata": {
            "tags": []
          },
          "execution_count": 41
        }
      ]
    },
    {
      "metadata": {
        "id": "xhuMh15RGk69",
        "colab_type": "code",
        "colab": {
          "autoexec": {
            "startup": false,
            "wait_interval": 0
          }
        }
      },
      "cell_type": "code",
      "source": [
        "y_pred_rf = regr.predict(x_test)"
      ],
      "execution_count": 0,
      "outputs": []
    },
    {
      "metadata": {
        "id": "IS-uDCZHGnfs",
        "colab_type": "code",
        "colab": {
          "autoexec": {
            "startup": false,
            "wait_interval": 0
          },
          "output_extras": [
            {
              "item_id": 1
            }
          ],
          "base_uri": "https://localhost:8080/",
          "height": 53
        },
        "outputId": "86b6069b-2812-416c-a46e-1af83ad7990e",
        "executionInfo": {
          "status": "ok",
          "timestamp": 1518743048404,
          "user_tz": -330,
          "elapsed": 1024,
          "user": {
            "displayName": "Sai Sumanth",
            "photoUrl": "//lh3.googleusercontent.com/-wT9Vk55Hfm8/AAAAAAAAAAI/AAAAAAAAAAA/bOPAYMMFYpc/s50-c-k-no/photo.jpg",
            "userId": "102569320044331549685"
          }
        }
      },
      "cell_type": "code",
      "source": [
        "y_pred_rf"
      ],
      "execution_count": 43,
      "outputs": [
        {
          "output_type": "execute_result",
          "data": {
            "text/plain": [
              "array([1.26283422, 1.05560986, 1.04487351, ..., 0.91565229, 0.91565229,\n",
              "       0.91565229])"
            ]
          },
          "metadata": {
            "tags": []
          },
          "execution_count": 43
        }
      ]
    },
    {
      "metadata": {
        "id": "5OxuHXjWI8xK",
        "colab_type": "code",
        "colab": {
          "autoexec": {
            "startup": false,
            "wait_interval": 0
          },
          "output_extras": [
            {
              "item_id": 1
            }
          ],
          "base_uri": "https://localhost:8080/",
          "height": 35
        },
        "outputId": "0cb2c0e6-9912-4e89-e063-7f29607d0d33",
        "executionInfo": {
          "status": "ok",
          "timestamp": 1518743065919,
          "user_tz": -330,
          "elapsed": 1035,
          "user": {
            "displayName": "Sai Sumanth",
            "photoUrl": "//lh3.googleusercontent.com/-wT9Vk55Hfm8/AAAAAAAAAAI/AAAAAAAAAAA/bOPAYMMFYpc/s50-c-k-no/photo.jpg",
            "userId": "102569320044331549685"
          }
        }
      },
      "cell_type": "code",
      "source": [
        "mean_squared_error(y_test, y_pred_rf)"
      ],
      "execution_count": 44,
      "outputs": [
        {
          "output_type": "execute_result",
          "data": {
            "text/plain": [
              "0.04811624515978815"
            ]
          },
          "metadata": {
            "tags": []
          },
          "execution_count": 44
        }
      ]
    },
    {
      "metadata": {
        "id": "50ANkLJRJh_4",
        "colab_type": "code",
        "colab": {
          "autoexec": {
            "startup": false,
            "wait_interval": 0
          },
          "output_extras": [
            {
              "item_id": 1
            }
          ],
          "base_uri": "https://localhost:8080/",
          "height": 172
        },
        "outputId": "e4cba163-a2c8-4a19-d156-f4d99a5084af",
        "executionInfo": {
          "status": "error",
          "timestamp": 1518787273282,
          "user_tz": -330,
          "elapsed": 1169,
          "user": {
            "displayName": "Sai Sumanth",
            "photoUrl": "//lh3.googleusercontent.com/-wT9Vk55Hfm8/AAAAAAAAAAI/AAAAAAAAAAA/bOPAYMMFYpc/s50-c-k-no/photo.jpg",
            "userId": "102569320044331549685"
          }
        }
      },
      "cell_type": "code",
      "source": [
        "y_pred = np.reshape(y_pred, (y_pred.shape[0]))"
      ],
      "execution_count": 25,
      "outputs": [
        {
          "output_type": "error",
          "ename": "NameError",
          "evalue": "ignored",
          "traceback": [
            "\u001b[0;31m\u001b[0m",
            "\u001b[0;31mNameError\u001b[0mTraceback (most recent call last)",
            "\u001b[0;32m<ipython-input-25-de1d8b81615d>\u001b[0m in \u001b[0;36m<module>\u001b[0;34m()\u001b[0m\n\u001b[0;32m----> 1\u001b[0;31m \u001b[0my_pred\u001b[0m \u001b[0;34m=\u001b[0m \u001b[0mnp\u001b[0m\u001b[0;34m.\u001b[0m\u001b[0mreshape\u001b[0m\u001b[0;34m(\u001b[0m\u001b[0my_pred\u001b[0m\u001b[0;34m,\u001b[0m \u001b[0;34m(\u001b[0m\u001b[0my_pred\u001b[0m\u001b[0;34m.\u001b[0m\u001b[0mshape\u001b[0m\u001b[0;34m[\u001b[0m\u001b[0;36m0\u001b[0m\u001b[0;34m]\u001b[0m\u001b[0;34m)\u001b[0m\u001b[0;34m)\u001b[0m\u001b[0;34m\u001b[0m\u001b[0m\n\u001b[0m",
            "\u001b[0;31mNameError\u001b[0m: name 'y_pred' is not defined"
          ]
        }
      ]
    },
    {
      "metadata": {
        "id": "UZtKRv0iKA8W",
        "colab_type": "text"
      },
      "cell_type": "markdown",
      "source": [
        "# Ensemble of LSTM and Random Forest"
      ]
    },
    {
      "metadata": {
        "id": "VINywcmjJBDa",
        "colab_type": "code",
        "colab": {
          "autoexec": {
            "startup": false,
            "wait_interval": 0
          }
        }
      },
      "cell_type": "code",
      "source": [
        "avg_pred = np.mean([y_pred, y_pred_rf], axis=0)"
      ],
      "execution_count": 0,
      "outputs": []
    },
    {
      "metadata": {
        "id": "FXLmC4J6JvdF",
        "colab_type": "code",
        "colab": {
          "autoexec": {
            "startup": false,
            "wait_interval": 0
          },
          "output_extras": [
            {
              "item_id": 1
            }
          ],
          "base_uri": "https://localhost:8080/",
          "height": 35
        },
        "outputId": "449f89fa-3112-49d2-c900-fe83bd8bdf8d",
        "executionInfo": {
          "status": "ok",
          "timestamp": 1518743269552,
          "user_tz": -330,
          "elapsed": 950,
          "user": {
            "displayName": "Sai Sumanth",
            "photoUrl": "//lh3.googleusercontent.com/-wT9Vk55Hfm8/AAAAAAAAAAI/AAAAAAAAAAA/bOPAYMMFYpc/s50-c-k-no/photo.jpg",
            "userId": "102569320044331549685"
          }
        }
      },
      "cell_type": "code",
      "source": [
        "mean_squared_error(y_test, avg_pred)"
      ],
      "execution_count": 53,
      "outputs": [
        {
          "output_type": "execute_result",
          "data": {
            "text/plain": [
              "0.05007202946038916"
            ]
          },
          "metadata": {
            "tags": []
          },
          "execution_count": 53
        }
      ]
    },
    {
      "metadata": {
        "id": "9-jowSpnJTT4",
        "colab_type": "code",
        "colab": {
          "autoexec": {
            "startup": false,
            "wait_interval": 0
          },
          "output_extras": [
            {
              "item_id": 1
            }
          ],
          "base_uri": "https://localhost:8080/",
          "height": 35
        },
        "outputId": "21258908-b884-45f0-a495-0fcdf8007192",
        "executionInfo": {
          "status": "ok",
          "timestamp": 1518743155238,
          "user_tz": -330,
          "elapsed": 1063,
          "user": {
            "displayName": "Sai Sumanth",
            "photoUrl": "//lh3.googleusercontent.com/-wT9Vk55Hfm8/AAAAAAAAAAI/AAAAAAAAAAA/bOPAYMMFYpc/s50-c-k-no/photo.jpg",
            "userId": "102569320044331549685"
          }
        }
      },
      "cell_type": "code",
      "source": [
        "y_pred.shape"
      ],
      "execution_count": 46,
      "outputs": [
        {
          "output_type": "execute_result",
          "data": {
            "text/plain": [
              "(20442, 1)"
            ]
          },
          "metadata": {
            "tags": []
          },
          "execution_count": 46
        }
      ]
    },
    {
      "metadata": {
        "id": "YiS_DcoiJW2W",
        "colab_type": "code",
        "colab": {
          "autoexec": {
            "startup": false,
            "wait_interval": 0
          },
          "output_extras": [
            {
              "item_id": 1
            }
          ],
          "base_uri": "https://localhost:8080/",
          "height": 35
        },
        "outputId": "0d6c767f-eeaa-4651-d9ee-b786cccf05fe",
        "executionInfo": {
          "status": "ok",
          "timestamp": 1518743166248,
          "user_tz": -330,
          "elapsed": 1078,
          "user": {
            "displayName": "Sai Sumanth",
            "photoUrl": "//lh3.googleusercontent.com/-wT9Vk55Hfm8/AAAAAAAAAAI/AAAAAAAAAAA/bOPAYMMFYpc/s50-c-k-no/photo.jpg",
            "userId": "102569320044331549685"
          }
        }
      },
      "cell_type": "code",
      "source": [
        "y_test.shape"
      ],
      "execution_count": 48,
      "outputs": [
        {
          "output_type": "execute_result",
          "data": {
            "text/plain": [
              "(20442,)"
            ]
          },
          "metadata": {
            "tags": []
          },
          "execution_count": 48
        }
      ]
    },
    {
      "metadata": {
        "id": "NTWayAZyJYEW",
        "colab_type": "code",
        "colab": {
          "autoexec": {
            "startup": false,
            "wait_interval": 0
          },
          "output_extras": [
            {
              "item_id": 1
            }
          ],
          "base_uri": "https://localhost:8080/",
          "height": 35
        },
        "outputId": "7c52fdde-1ad2-4d73-fa38-ffd8e0993975",
        "executionInfo": {
          "status": "ok",
          "timestamp": 1518743179518,
          "user_tz": -330,
          "elapsed": 895,
          "user": {
            "displayName": "Sai Sumanth",
            "photoUrl": "//lh3.googleusercontent.com/-wT9Vk55Hfm8/AAAAAAAAAAI/AAAAAAAAAAA/bOPAYMMFYpc/s50-c-k-no/photo.jpg",
            "userId": "102569320044331549685"
          }
        }
      },
      "cell_type": "code",
      "source": [
        "y_pred_rf.shape"
      ],
      "execution_count": 49,
      "outputs": [
        {
          "output_type": "execute_result",
          "data": {
            "text/plain": [
              "(20442,)"
            ]
          },
          "metadata": {
            "tags": []
          },
          "execution_count": 49
        }
      ]
    },
    {
      "metadata": {
        "id": "4BVU-f4DJc0N",
        "colab_type": "code",
        "colab": {
          "autoexec": {
            "startup": false,
            "wait_interval": 0
          }
        }
      },
      "cell_type": "code",
      "source": [
        ""
      ],
      "execution_count": 0,
      "outputs": []
    },
    {
      "metadata": {
        "id": "EYJr6zsTN5RI",
        "colab_type": "text"
      },
      "cell_type": "markdown",
      "source": [
        "# SVM"
      ]
    },
    {
      "metadata": {
        "id": "QtpBamrB0i-k",
        "colab_type": "code",
        "colab": {
          "autoexec": {
            "startup": false,
            "wait_interval": 0
          }
        }
      },
      "cell_type": "code",
      "source": [
        "train_svm = x_train[:10000]"
      ],
      "execution_count": 0,
      "outputs": []
    },
    {
      "metadata": {
        "id": "Jv-Yzg7f1Trh",
        "colab_type": "code",
        "colab": {
          "autoexec": {
            "startup": false,
            "wait_interval": 0
          }
        }
      },
      "cell_type": "code",
      "source": [
        "y_train_svm = y_train[:10000]"
      ],
      "execution_count": 0,
      "outputs": []
    },
    {
      "metadata": {
        "id": "uUya_v5bN6TP",
        "colab_type": "code",
        "colab": {
          "autoexec": {
            "startup": false,
            "wait_interval": 0
          }
        }
      },
      "cell_type": "code",
      "source": [
        "clf = SVR()\n",
        "clf.fit(train_svm, y_train_svm) "
      ],
      "execution_count": 0,
      "outputs": []
    },
    {
      "metadata": {
        "id": "y6d4uN77OGog",
        "colab_type": "code",
        "colab": {
          "autoexec": {
            "startup": false,
            "wait_interval": 0
          }
        }
      },
      "cell_type": "code",
      "source": [
        "y_pred_svm = clf.predict(x_test)"
      ],
      "execution_count": 0,
      "outputs": []
    },
    {
      "metadata": {
        "id": "5rn1RXjI1lBW",
        "colab_type": "code",
        "colab": {
          "autoexec": {
            "startup": false,
            "wait_interval": 0
          },
          "output_extras": [
            {
              "item_id": 1
            }
          ],
          "base_uri": "https://localhost:8080/",
          "height": 34
        },
        "outputId": "6911d618-f3b1-4247-9b44-dc39c21962a9",
        "executionInfo": {
          "status": "ok",
          "timestamp": 1518771577843,
          "user_tz": -330,
          "elapsed": 14205,
          "user": {
            "displayName": "Sai Sumanth",
            "photoUrl": "//lh3.googleusercontent.com/-wT9Vk55Hfm8/AAAAAAAAAAI/AAAAAAAAAAA/bOPAYMMFYpc/s50-c-k-no/photo.jpg",
            "userId": "102569320044331549685"
          }
        }
      },
      "cell_type": "code",
      "source": [
        "mean_squared_error(y_test, y_pred_svm)"
      ],
      "execution_count": 29,
      "outputs": [
        {
          "output_type": "execute_result",
          "data": {
            "text/plain": [
              "0.07910799786626199"
            ]
          },
          "metadata": {
            "tags": []
          },
          "execution_count": 29
        }
      ]
    },
    {
      "metadata": {
        "id": "2Tn6qRcs1usi",
        "colab_type": "code",
        "colab": {
          "autoexec": {
            "startup": false,
            "wait_interval": 0
          }
        }
      },
      "cell_type": "code",
      "source": [
        ""
      ],
      "execution_count": 0,
      "outputs": []
    }
  ]
}